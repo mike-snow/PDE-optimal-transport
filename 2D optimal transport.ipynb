{
 "cells": [
  {
   "cell_type": "markdown",
   "metadata": {},
   "source": [
    "# Optimal transport distance between 2D densities "
   ]
  },
  {
   "cell_type": "code",
   "execution_count": 2,
   "metadata": {
    "collapsed": true
   },
   "outputs": [],
   "source": [
    "import numpy as np\n",
    "import matplotlib.pyplot as plt\n",
    "import seaborn as sns\n",
    "\n",
    "from scipy.linalg import solve\n",
    "from PIL import Image as im\n",
    "from scipy.integrate import simps\n",
    "from scipy.sparse import diags, csr_matrix, eye, kron, lil_matrix, coo_matrix, vstack, hstack\n",
    "from scipy.sparse.linalg import spsolve"
   ]
  },
  {
   "cell_type": "code",
   "execution_count": 3,
   "metadata": {
    "collapsed": true
   },
   "outputs": [],
   "source": [
    "m, n = 256, 256\n",
    "\n",
    "lin = np.linspace(0, m-1, m)\n",
    "\n",
    "image1 = np.meshgrid(lin, lin)[0]\n",
    "image2 = np.ones((n, n))"
   ]
  },
  {
   "cell_type": "code",
   "execution_count": 4,
   "metadata": {},
   "outputs": [
    {
     "data": {
      "image/png": "[encoded data removed]",
      "text/plain": [
       "<matplotlib.figure.Figure at 0x7fd724387470>"
      ]
     },
     "metadata": {},
     "output_type": "display_data"
    }
   ],
   "source": [
    "sns.heatmap(image1)\n",
    "plt.show()"
   ]
  },
  {
   "cell_type": "markdown",
   "metadata": {},
   "source": [
    "## Create meshgrid for domain $[0,1] \\times [0,1]$"
   ]
  },
  {
   "cell_type": "code",
   "execution_count": 5,
   "metadata": {
    "collapsed": true
   },
   "outputs": [],
   "source": [
    "def _meshgrid(density):\n",
    "    m = density.shape[1]\n",
    "    x = np.linspace(0, 1, m)\n",
    "    x1, x2 = np.meshgrid(x, x, indexing='xy')\n",
    "    return x1, np.flipud(x2)  "
   ]
  },
  {
   "cell_type": "markdown",
   "metadata": {},
   "source": [
    "## Normalise densities such that $\\int f(x) dx = \\int g(y) dy = 1$\n",
    "\n",
    "Also add a small constant $\\epsilon$ to ensure densities are non-zero"
   ]
  },
  {
   "cell_type": "code",
   "execution_count": 6,
   "metadata": {
    "collapsed": true
   },
   "outputs": [],
   "source": [
    "def _normalise(density, eps):\n",
    "    x = np.linspace(0, 1, density.shape[1])\n",
    "    return (density + eps) / float(simps(simps(density + eps, x), x))"
   ]
  },
  {
   "cell_type": "markdown",
   "metadata": {},
   "source": [
    "# Gradient operators"
   ]
  },
  {
   "cell_type": "code",
   "execution_count": 7,
   "metadata": {
    "collapsed": true
   },
   "outputs": [],
   "source": [
    "def _dx(m):\n",
    "    diagonals = [np.ones(m-1), -np.ones(m-1)]\n",
    "    diagonals1 = [np.ones(m-1), -2*np.ones(m), np.ones(m-1)]\n",
    "    dx = diags(diagonals, [-1, 1]).toarray()\n",
    "    dxx = diags(diagonals1, [-1, 0, 1]).toarray()\n",
    "    dx[0,1], dx[-1,-2] = 0, 0       \n",
    "    dxx[0,1], dxx[-1,-2] = 2, 2\n",
    "    return csr_matrix(-dx), csr_matrix(dxx)\n",
    "\n",
    "def _derivative_matrices(m):\n",
    "    dx1 = kron(_dx(m)[0], eye(m))\n",
    "    dx2 = -kron(eye(m), _dx(m)[0])\n",
    "    d2x1 = kron(_dx(m)[1], eye(m))\n",
    "    d2x2 = kron(eye(m), _dx(m)[1])\n",
    "    dx1x2 = -kron(_dx(m)[0], _dx(m)[0])   \n",
    "    return dx1, dx2, d2x1, d2x2, dx1x2\n",
    "\n",
    "def _helpers(m):\n",
    "    diagonals = np.ones(m-1)\n",
    "    right = diags(diagonals, 1).toarray()\n",
    "    left = diags(diagonals, -1).toarray()\n",
    "    right[0,1] = 2\n",
    "    left[-1, -2] = 2\n",
    "    return csr_matrix(right), csr_matrix(left)"
   ]
  },
  {
   "cell_type": "code",
   "execution_count": 31,
   "metadata": {},
   "outputs": [],
   "source": [
    "m, n = 256, 256\n",
    "\n",
    "lin = np.linspace(0, m-1, n)\n",
    "\n",
    "image1 = np.fliplr(np.meshgrid(lin, lin)[0])\n",
    "image2 = np.ones((m, n))\n",
    "\n",
    "m, n = image1.shape\n",
    "h, k = 1./(m-1), 1./(n-1)\n",
    "\n",
    "# Generate domain    \n",
    "\n",
    "x1, x2 = _meshgrid(image1)\n",
    "\n",
    "# Normalise densities s.t. \\int f(x)dx = \\int g(y)dy = 1\n",
    "\n",
    "f_x, g_y = _normalise(image1, 1), _normalise(image2, 1)\n",
    "\n",
    "g_y1, g_y2 = np.gradient(g_y)\n",
    "\n",
    "dx1, dx2, d2x1, d2x2, dx1x2 = _derivative_matrices(m)\n",
    "\n",
    "R, L = _helpers(m)\n",
    "\n",
    "# Iteratively solve to find u(x1, x2) using Newton's method until error < tolerance\n",
    "\n",
    "d1, d2, d3, d4 = lil_matrix((m**2, n**2)), lil_matrix((m**2, n**2)), lil_matrix((m**2, n**2)), lil_matrix((m**2, n**2))\n",
    "\n",
    "error = 1\n",
    "iters = 1\n",
    "max_iters = 5\n",
    "dampening = 1\n",
    "tol = 1e-5\n",
    "u = np.zeros((m**2, 1))"
   ]
  },
  {
   "cell_type": "code",
   "execution_count": 32,
   "metadata": {},
   "outputs": [
    {
     "name": "stdout",
     "output_type": "stream",
     "text": [
      "1.98443579767\n",
      "1\n",
      "2\n",
      "3\n",
      "4\n",
      "5.80526737792e-11\n",
      "Solution converged\n",
      "1\n",
      "2\n",
      "3\n",
      "4\n"
     ]
    }
   ],
   "source": [
    "while error > tol and iters < max_iters:\n",
    "    ux1, ux2 = dx1*u/(2.*h), dx2*u/(2.*k)\n",
    "    ux1x1, ux2x2, ux1x2 = d2x1*u/(h**2), d2x2*u/(k**2), dx1x2*u/(4*h*k)\n",
    "\n",
    "    ux1, ux2 = np.reshape(ux1, (m, n)), np.reshape(ux2, (m, n))\n",
    "\n",
    "# Check error:\n",
    "\n",
    "    x_ux1, x_ux2 = x1 - ux1, x2 - ux2\n",
    "\n",
    "    residual = ((1-ux1x1)*(1-ux2x2) - ux1x2**2) * np.reshape(np.ndarray.flatten(g_y, 'F'), (m*n, 1)) \\\n",
    "    - np.reshape(np.ndarray.flatten(f_x, 'F'), (m*n, 1));\n",
    "    error = np.abs(np.max(residual) - np.min(residual))\n",
    "    print(error)\n",
    "    if error < tol:\n",
    "        print('Solution converged')\n",
    "\n",
    "# find g_y1, g_y2 and evaluate at         \n",
    "\n",
    "    G = np.reshape(np.ndarray.flatten(g_y[(k*(1 - x_ux2)).astype(int), (k*x_ux1).astype(int)], 'F'), (m*n, 1))\n",
    "    G_y1 = np.reshape(np.ndarray.flatten(g_y1[(k*(1 - x_ux2)).astype(int), (k*x_ux1).astype(int)], 'F'), (m*n, 1))\n",
    "    G_y2 = np.reshape(np.ndarray.flatten(g_y2[(k*(1 - x_ux2)).astype(int), (k*x_ux1).astype(int)], 'F'), (m*n, 1))\n",
    "\n",
    "# Paper coefficients\n",
    "\n",
    "    A =  1 - ux1x1 - ux2x2 - ux1x2**2 + ux1x1*ux2x2 \n",
    "    B =  ux2x2 - 1\n",
    "    C =  ux1x1 - 1\n",
    "    D = -2*ux1x2\n",
    "\n",
    "# Set up system of equations\n",
    "    print(1)\n",
    "    d1.setdiag(B*G/h**2 - A*G_y1/(2*h))\n",
    "    d2.setdiag(C*G/k**2 - A*G_y2/(2*k))\n",
    "    d3.setdiag(-2*G*(B/h**2 + C/k**2))\n",
    "    d4.setdiag(G*D/(4*h*k))\n",
    "    \n",
    "    W = eye(m*n) * d3 + kron(eye(m), R) * d1 + kron(eye(m), L) * d1 + \\\n",
    "    kron(R, eye(n)) * d2 + kron(L, eye(n)) * d2 + -dx1x2 * d4\n",
    "\n",
    "# Add additional constraint for deterministic system \n",
    "\n",
    "    pad1 = csr_matrix(np.ones((1,n**2)))\n",
    "    pad2 = np.ones((m**2 + 1, 1))\n",
    "    pad2[-1] = 0\n",
    "    pad2 = csr_matrix(pad2)\n",
    "    \n",
    "    W = vstack((W, pad1))\n",
    "    W = hstack((W, pad2))\n",
    "    W = csr_matrix(W)\n",
    "    print(2)\n",
    "# Right-hand side                        \n",
    "                             \n",
    "    b = np.reshape(np.ndarray.flatten(f_x, 'F'), (m*n, 1)) - G*A\n",
    "    b = np.vstack((b,0))\n",
    "    b = csr_matrix(b)\n",
    "\n",
    "\n",
    "# solve the system                          \n",
    "    print(3)\n",
    "    ew = spsolve(W, b)  \n",
    "    print(4)\n",
    "# Update solution and repeat\n",
    "\n",
    "    u = u + np.reshape(ew[:-1], (n*m, 1))\n",
    "\n",
    "    iters += 1\n",
    "    \n",
    "# Compute Wasserstein metric\n",
    "\n",
    "# Optimal mapping is s(x) = x - u_x(x), plotted with mesh generation \n",
    "\n"
   ]
  },
  {
   "cell_type": "code",
   "execution_count": 33,
   "metadata": {},
   "outputs": [
    {
     "data": {
      "text/plain": [
       "(65536, 1)"
      ]
     },
     "execution_count": 33,
     "metadata": {},
     "output_type": "execute_result"
    }
   ],
   "source": [
    "u.shape"
   ]
  },
  {
   "cell_type": "code",
   "execution_count": 40,
   "metadata": {},
   "outputs": [
    {
     "data": {
      "text/plain": [
       "0.0080216089863209879"
      ]
     },
     "execution_count": 40,
     "metadata": {},
     "output_type": "execute_result"
    }
   ],
   "source": [
    "mapping = (np.rot90(np.reshape(u, (m,n))))\n",
    "\n",
    "ux1, ux2 = np.gradient(mapping)\n",
    "\n",
    "c = (ux1**2 + ux2**2) * image1\n",
    "\n",
    "s_x1, s_x2 = x1 - ux1, x2 - ux2\n",
    "\n",
    "x = np.linspace(0, 1, m)\n",
    "\n",
    "cost = np.sqrt(simps(simps(c, x), x))\n",
    "cost"
   ]
  },
  {
   "cell_type": "code",
   "execution_count": 41,
   "metadata": {},
   "outputs": [
    {
     "data": {
      "image/png": "[encoded data removed]",
      "text/plain": [
       "<matplotlib.figure.Figure at 0x7fd6f4764d30>"
      ]
     },
     "metadata": {},
     "output_type": "display_data"
    }
   ],
   "source": [
    "sns.heatmap(mapping)\n",
    "plt.show()"
   ]
  },
  {
   "cell_type": "code",
   "execution_count": 59,
   "metadata": {},
   "outputs": [
    {
     "data": {
      "text/plain": [
       "0.49935146667545904"
      ]
     },
     "execution_count": 59,
     "metadata": {},
     "output_type": "execute_result"
    }
   ],
   "source": [
    "cost"
   ]
  },
  {
   "cell_type": "code",
   "execution_count": 393,
   "metadata": {
    "collapsed": true
   },
   "outputs": [],
   "source": [
    "def _optimaltransport(image1, image2, eps, max_iters, tol, damp, plotting=0):\n",
    "    \n",
    "    m, n = image1.shape\n",
    "    h, k = 1./(m-1), 1./(n-1)\n",
    "    \n",
    "# Generate domain    \n",
    "    \n",
    "    x1, x2 = _meshgrid(source)\n",
    "    \n",
    "# Normalise densities s.t. \\int f(x)dx = \\int g(y)dy = 1\n",
    "    \n",
    "    f_x, g_y = _normalise(image1, 1), _normalise(image2, 1)\n",
    "    \n",
    "    g_y1, g_y2 = np.gradient(g_y)\n",
    "    \n",
    "    dx1, dx2, d2x1, d2x2, dx1x2 = _derivative_matrices(m)\n",
    "\n",
    "# Iteratively solve to find u(x1, x2) using Newton's method until error < tolerance\n",
    "    \n",
    "    d1, d2, d3, d4 = lil_matrix((m**2, n**2)), lil_matrix((m**2, n**2)), lil_matrix((m**2, n**2)), lil_matrix((m**2, n**2))\n",
    "    \n",
    "    error = 1\n",
    "    iters = 1\n",
    "    u = np.zeros((m**2, 1))\n",
    "    \n",
    "    while error > tol and iters < max_iters:\n",
    "        ux1, ux2 = dx1*u/(2.*h), dx2*u/(2.*k)\n",
    "        ux1x1, ux2x2, ux1x2 = d2x1*u/(h**2), d2x2*u/(k**2), dx1x2*u/(4*h*k)\n",
    "\n",
    "        ux1, ux2 = np.reshape(ux1, (m, n)), np.reshape(ux2, (m, n))\n",
    "\n",
    "# Check error:\n",
    "\n",
    "        x_ux1, x_ux2 = x1 - ux1, x2 - ux2\n",
    "\n",
    "        residual = ((1-ux1x1)*(1-ux2x2) - ux1x2**2)*np.ndarray.flatten(g_y, 'F') - np.reshape(np.ndarray.flatten(f_x, 'F'), (m*n, 1))\n",
    "        error = abs(np.max(residual).all() - np.min(residual).all())\n",
    "\n",
    "# find g_y1, g_y2 and evaluate at         \n",
    "\n",
    "        G = np.reshape(np.ndarray.flatten(g_y[(k*(1 - x_ux2)).astype(int), (k*x_ux1).astype(int)], 'F'), (m*n, 1))\n",
    "        G_y1 = np.reshape(np.ndarray.flatten(g_y1[(k*(1 - x_ux2)).astype(int), (k*x_ux1).astype(int)], 'F'), (m*n, 1))\n",
    "        G_y2 = np.reshape(np.ndarray.flatten(g_y2[(k*(1 - x_ux2)).astype(int), (k*x_ux1).astype(int)], 'F'), (m*n, 1))\n",
    "\n",
    "# Paper coefficients\n",
    "\n",
    "        A =  1 - ux1x1 - ux2x2 - ux1x2**2 + ux1x1*ux2x2 \n",
    "        B =  ux2x2 - 1\n",
    "        C =  ux1x1 - 1\n",
    "        D = -2*ux1x2\n",
    "\n",
    "# Set up system of equations\n",
    "\n",
    "        d1.setdiag(B*G/h**2 - A*G_y1/(2*h))\n",
    "        d2.setdiag(C*G/k**2 - A*G_y2/(2*k))\n",
    "        d3.setdiag(-2*G*(B/h**2 + C/k**2))\n",
    "        d4.setdiag(G*D/(4*h*k))\n",
    "\n",
    "        W = eye(m*n) * d3 + kron(eye(m), R) * d1 + kron(eye(m), L) * d1 + \\\n",
    "        kron(R, eye(n)) * d2 + kron(L, eye(n)) * d2 + -dx1x2 * d4\n",
    "\n",
    "# Add additional constraint for deterministic system \n",
    "\n",
    "        pad1 = csr_matrix(np.ones((1,n**2)))\n",
    "        pad2 = np.ones((m**2 + 1, 1))\n",
    "        pad2[-1] = 0\n",
    "        pad2 = csr_matrix(pad2)\n",
    "\n",
    "        W = vstack((W, pad1))\n",
    "        W = hstack((W, pad2))\n",
    "        W = csr_matrix(W)\n",
    "\n",
    "# Right-hand side                        \n",
    "\n",
    "        b = np.reshape(np.ndarray.flatten(f_x, 'F'), (m*n, 1)) - G*A\n",
    "        b = np.vstack((b,0))\n",
    "        b = csr_matrix(b)\n",
    "\n",
    "\n",
    "# solve the system                          \n",
    "\n",
    "        ew = spsolve(W, b)  \n",
    "\n",
    "# Update solution and repeat\n",
    "\n",
    "        u = u + np.reshape(ew[:-1], (n*m, 1))\n",
    "\n",
    "        iters += 1\n",
    "\n",
    "# Compute Wasserstein metric\n",
    "\n",
    "# Optimal mapping is s(x) = x - u_x(x), plotted with mesh generation \n",
    "        \n",
    "    u = np.shape(u, (m, n))\n",
    "\n",
    "# compute Wasserstein metric\n",
    "\n",
    "    u = np.rot90(np.reshape(u, (m,n)))\n",
    "\n",
    "    ux1, ux2 = np.gradient(u)\n",
    "\n",
    "    c = (ux1**2 + ux2**2) * image1\n",
    "\n",
    "    x = np.linspace(0, 1, m)\n",
    "\n",
    "    cost = np.sqrt(simps(simps(c, x), x))\n",
    "    cost\n",
    "\n",
    "# optimal mapping \n",
    "\n",
    "    s_x1, s_x2 = x1 - ux1, x2 - ux2"
   ]
  },
  {
   "cell_type": "code",
   "execution_count": 274,
   "metadata": {
    "collapsed": true
   },
   "outputs": [],
   "source": [
    "class OptimalTransport():\n",
    "    \n",
    "    def __init__(self, image1, image2, tol, max_iters, eps):\n",
    "        self.image1 = image1\n",
    "        self.image2 = image2\n",
    "        self.tol = tol\n",
    "        self.max_iters = max_iters\n",
    "        self.eps = eps\n",
    "        \n",
    "    def _meshgrid(self, m):\n",
    "        x = np.linspace(0, 1, m)\n",
    "        x1, x2 = np.meshgrid(x, x, indexing='xy')\n",
    "        return x1, np.flipud(x2) \n",
    "    \n",
    "    def _normalise(self, image, m):\n",
    "        x = np.linspace(0, 1, m)\n",
    "        return (image + self.eps) / float(simps(simps(image + self.eps, x), x))\n",
    "    \n",
    "    def _dx(m):\n",
    "        diagonals = [np.ones(m-1), -np.ones(m-1)]\n",
    "        diagonals1 = [np.ones(m-1), -2*np.ones(m), np.ones(m-1)]\n",
    "        dx = diags(diagonals, [-1, 1]).toarray()\n",
    "        dxx = diags(diagonals1, [-1, 0, 1]).toarray()\n",
    "        dx[0,1], dx[-1,-2] = 0, 0       \n",
    "        dxx[0,1], dxx[-1,-2] = 2, 2\n",
    "        return csr_matrix(-dx), csr_matrix(dxx)\n",
    "\n",
    "    def _derivative_matrices(m):\n",
    "        dx1 = kron(_dx(m)[0], eye(m))\n",
    "        dx2 = -kron(eye(m), _dx(m)[0])\n",
    "        d2x1 = kron(_dx(m)[1], eye(m))\n",
    "        d2x2 = kron(eye(m), _dx(m)[1])\n",
    "        dx1x2 = -kron(_dx(m)[0], _dx(m)[0])   \n",
    "        return dx1, dx2, d2x1, d2x2, dx1x2\n",
    "    \n",
    "    def _optimaltransport(self):\n",
    "        m, n = self.image1.shape\n",
    "        \n",
    "        if m != n:\n",
    "            raise Error\n",
    "        x1, x2 = _meshgrid(m)\n",
    "        source, target = self._normalise(self.image1, m), self._normalise(self.image2, m)\n",
    "        dx1, dx2, d2x1, d2x2, dx1x2 = self._dx1(m), self._dx2(m), self._d2x1(m), self._d2x2(m), self._dx1x2(m)\n",
    "        \n",
    "        \n",
    "class Error(Exception):\n",
    "    pass"
   ]
  }
 ],
 "metadata": {
  "kernelspec": {
   "display_name": "Python 3",
   "language": "python",
   "name": "python3"
  },
  "language_info": {
   "codemirror_mode": {
    "name": "ipython",
    "version": 2
   },
   "file_extension": ".py",
   "mimetype": "text/x-python",
   "name": "python",
   "nbconvert_exporter": "python",
   "pygments_lexer": "ipython2",
   "version": "2.7.12"
  }
 },
 "nbformat": 4,
 "nbformat_minor": 2
}
